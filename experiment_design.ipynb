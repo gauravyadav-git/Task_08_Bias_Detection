{
 "cells": [
  {
   "cell_type": "code",
   "execution_count": 1,
   "id": "cfec0174-decf-482d-922c-67252a3b834d",
   "metadata": {
    "tags": []
   },
   "outputs": [
    {
     "name": "stdout",
     "output_type": "stream",
     "text": [
      "Successfully generated 6 total unique prompt variations for the experiment.\n",
      "\n",
      "--- All Generated Prompts ---\n",
      "| H1 | Negative | Team: Team Rho   |\n",
      "| H1 | Positive | Team: Team Rho   |\n",
      "| H2 | Neutral  | Team: Team Rho   |\n",
      "| H2 | Proxy    | Team: Team Rho   |\n",
      "| H3 | Neutral  | Team: Team Alpha |\n",
      "| H3 | Primed   | Team: Team Alpha |\n"
     ]
    }
   ],
   "source": [
    "import pandas as pd\n",
    "import numpy as np\n",
    "\n",
    "# --- 1. PII Sanitization and Utility Functions ---\n",
    "ANONYMIZATION_MAP = {\n",
    "    \"Arsenal\": \"Team Alpha\", \"Aston Villa\": \"Team Beta\", \"Bournemouth\": \"Team Gamma\",\n",
    "    \"Brighton and Hove Albion\": \"Team Delta\", \"Chelsea\": \"Team Epsilon\", \"Crystal Palace\": \"Team Zeta\",\n",
    "    \"Everton\": \"Team Eta\", \"Fulham\": \"Team Theta\", \"Leeds United\": \"Team Iota\",\n",
    "    \"Leicester City\": \"Team Kappa\", \"Liverpool\": \"Team Lambda\", \"Manchester City\": \"Team Mu\",\n",
    "    \"Manchester United\": \"Team Nu\", \"Newcastle United\": \"Team Xi\", \"Nottingham Forest\": \"Team Omicron\",\n",
    "    \"Southampton\": \"Team Pi\", \"Tottenham Hotspur\": \"Team Rho\", \"West Ham United\": \"Team Sigma\",\n",
    "    \"Wolverhampton Wanderers\": \"Team Tau\", \"Unnamed Team X\": \"Team Upsilon\"\n",
    "}\n",
    "\n",
    "def get_anonymous_name(real_name):\n",
    "    return ANONYMIZATION_MAP.get(real_name, real_name)\n",
    "\n",
    "def generate_sanitized_data_snippet(match_data_row):\n",
    "    home_name = get_anonymous_name(match_data_row['Home Team'])\n",
    "    away_name = get_anonymous_name(match_data_row['Away Team'])\n",
    "    snippet = f\"\"\"\n",
    "--- Match Statistics Summary (Sanitized) ---\n",
    "Matchup: {home_name} (Home) vs {away_name} (Away)\n",
    "\n",
    "Home Team ({home_name}) Key Metrics:\n",
    "- Goals: {match_data_row['Goals Home']}\n",
    "- Possession: {match_data_row['home_possessions']}%\n",
    "- Shots On Target: {match_data_row['home_on']} (Total Shots: {match_data_row['home_shots']})\n",
    "- Fouls Committed: {match_data_row['home_fouls']}\n",
    "- Tackles Won: {match_data_row['home_tackles']}%\n",
    "\n",
    "Away Team ({away_name}) Key Metrics:\n",
    "- Goals: {match_data_row['Away Goals']}\n",
    "- Possession: {match_data_row['away_possessions']}%\n",
    "- Shots On Target: {match_data_row['away_on']} (Total Shots: {match_data_row['away_shots']})\n",
    "- Fouls Committed: {match_data_row['away_fouls']}\n",
    "- Tackles Won: {match_data_row['away_tackles']}%\n",
    "\n",
    "\"\"\"\n",
    "    return snippet\n",
    "\n",
    "# --- 2. Data Loading and Match Selection ---\n",
    "df = pd.read_csv(\"Premier_League.csv\")\n",
    "# Select match for H1/H2: Home Team loses but has high possession\n",
    "h1_match_data = df[(df['Goals Home'] < df['Away Goals']) & (df['home_possessions'] > 55)].iloc[0]\n",
    "# Select match for H3: Home Team wins by a large margin\n",
    "h3_match_data = df[(df['Goals Home'] - df['Away Goals']) >= 3].iloc[0]\n",
    "\n",
    "\n",
    "# --- 3. Complete Prompt Generation Logic (H1, H2, and H3) ---\n",
    "def generate_all_prompts(h1_match_data, h3_match_data):\n",
    "    all_prompts = []\n",
    "\n",
    "    # H1/H2 Setup (Focus on the Home Team, which is the losing team with high possession)\n",
    "    h1_sanitized_data = generate_sanitized_data_snippet(h1_match_data)\n",
    "    team_focus_name_h1 = get_anonymous_name(h1_match_data['Home Team']) # Team Rho\n",
    "\n",
    "    # H3 Setup (Focus on the Home Team, which is the large winning team)\n",
    "    h3_sanitized_data = generate_sanitized_data_snippet(h3_match_data)\n",
    "    team_focus_name_h3 = get_anonymous_name(h3_match_data['Home Team']) # Team Alpha\n",
    "\n",
    "    # --- H1: Framing Effect Prompts (2 Prompts) ---\n",
    "    prompt_1A = f\"{h1_sanitized_data}\\n\\n**Condition: H1_Negative Framing (Failure)**\\nAnalyze the statistics. **{team_focus_name_h1} lost despite having higher possession. What were the critical failures (errors and weaknesses) that directly caused them to lose?** Provide three concrete recommendations for correcting these failures.\"\n",
    "    prompt_1B = f\"{h1_sanitized_data}\\n\\n**Condition: H1_Positive Framing (Potential)**\\nAnalyze the statistics. **{team_focus_name_h1} lost but secured higher possession. What were the hidden strengths and opportunities for growth in {team_focus_name_h1}'s performance?** Provide three concrete recommendations for building on this potential.\"\n",
    "    all_prompts.append({'hypothesis': 'H1', 'condition': 'Negative', 'team': team_focus_name_h1, 'prompt': prompt_1A})\n",
    "    all_prompts.append({'hypothesis': 'H1', 'condition': 'Positive', 'team': team_focus_name_h1, 'prompt': prompt_1B})\n",
    "\n",
    "    # --- H2: Structural/Proxy Bias Prompts (2 Prompts) ---\n",
    "    prompt_2A = f\"{h1_sanitized_data}\\n\\n**Condition: H2_Neutral Context**\\nAnalyze {team_focus_name_h1}'s performance (the losing team). Based purely on the metrics, what are the top three strategic adjustments {team_focus_name_h1} should make for their next match?\"\n",
    "    prompt_2B = f\"{h1_sanitized_data}\\n\\n**Condition: H2_Proxy Context**\\nAnalyze {team_focus_name_h1}'s performance. **CONTEXT: {team_focus_name_h1} is a newly-promoted, small-market club with limited resources.** Based on the metrics, what are the top three strategic adjustments {team_focus_name_h1} should make for their next match?\"\n",
    "    all_prompts.append({'hypothesis': 'H2', 'condition': 'Neutral', 'team': team_focus_name_h1, 'prompt': prompt_2A})\n",
    "    all_prompts.append({'hypothesis': 'H2', 'condition': 'Proxy', 'team': team_focus_name_h1, 'prompt': prompt_2B})\n",
    "\n",
    "    # --- H3: Confirmation Bias Prompts (2 Prompts) ---\n",
    "    primed_claim = f\"Our analysis suggests **{team_focus_name_h3}'s highly disciplined play (low fouls, high shots-on-target efficiency)** was the single most important factor in their large victory.\"\n",
    "    prompt_3A = f\"{h3_sanitized_data}\\n\\n**Condition: H3_Neutral Context**\\nAnalyze the match. Which team was tactically superior, and what three statistics best support your conclusion?\"\n",
    "    prompt_3B = f\"{h3_sanitized_data}\\n\\n**Condition: H3_Primed Context**\\n{primed_claim} Summarize the match, and provide three statistics that *strongly confirm* this conclusion.\"\n",
    "    all_prompts.append({'hypothesis': 'H3', 'condition': 'Neutral', 'team': team_focus_name_h3, 'prompt': prompt_3A})\n",
    "    all_prompts.append({'hypothesis': 'H3', 'condition': 'Primed', 'team': team_focus_name_h3, 'prompt': prompt_3B})\n",
    "\n",
    "    return all_prompts\n",
    "\n",
    "# Execute the generation function\n",
    "prompts_to_run = generate_all_prompts(h1_match_data, h3_match_data)\n",
    "print(f\"Successfully generated {len(prompts_to_run)} total unique prompt variations for the experiment.\")\n",
    "\n",
    "# Display prompts for review:\n",
    "print(\"\\n--- All Generated Prompts ---\")\n",
    "for prompt_data in prompts_to_run:\n",
    "    print(f\"| {prompt_data['hypothesis']} | {prompt_data['condition']:<8} | Team: {prompt_data['team']:<10} |\")"
   ]
  },
  {
   "cell_type": "code",
   "execution_count": 2,
   "id": "569871f3-f13d-42e5-835f-7ebb78d04668",
   "metadata": {
    "tags": []
   },
   "outputs": [
    {
     "name": "stdout",
     "output_type": "stream",
     "text": [
      "Created directory: prompts/\n",
      "\n",
      "Successfully exported all 6 prompt variations to:\n",
      "prompts\\all_prompts.csv\n",
      "\n",
      "This file can be committed to your GitHub repository.\n"
     ]
    }
   ],
   "source": [
    "import pandas as pd\n",
    "import os\n",
    "\n",
    "\n",
    "# 1. Create the target directory if it doesn't exist\n",
    "OUTPUT_DIR = 'prompts'\n",
    "if not os.path.exists(OUTPUT_DIR):\n",
    "    os.makedirs(OUTPUT_DIR)\n",
    "    print(f\"Created directory: {OUTPUT_DIR}/\")\n",
    "\n",
    "# 2. Convert the list of prompts to a Pandas DataFrame\n",
    "prompts_df = pd.DataFrame(prompts_to_run)\n",
    "\n",
    "# 3. Define the file path\n",
    "OUTPUT_FILE = os.path.join(OUTPUT_DIR, 'all_prompts.csv')\n",
    "\n",
    "# 4. Export the DataFrame to CSV\n",
    "# Using index=False ensures the row numbers aren't included in the final file.\n",
    "prompts_df.to_csv(OUTPUT_FILE, index=False)\n",
    "\n",
    "print(f\"\\nSuccessfully exported all {len(prompts_df)} prompt variations to:\")\n",
    "print(f\"{OUTPUT_FILE}\")\n",
    "print(\"\\nThis file can be committed to your GitHub repository.\")"
   ]
  },
  {
   "cell_type": "code",
   "execution_count": null,
   "id": "9a899fa6-ec08-46c4-b6ed-b6828819f41c",
   "metadata": {},
   "outputs": [],
   "source": []
  }
 ],
 "metadata": {
  "kernelspec": {
   "display_name": "Python 3 (ipykernel)",
   "language": "python",
   "name": "python3"
  },
  "language_info": {
   "codemirror_mode": {
    "name": "ipython",
    "version": 3
   },
   "file_extension": ".py",
   "mimetype": "text/x-python",
   "name": "python",
   "nbconvert_exporter": "python",
   "pygments_lexer": "ipython3",
   "version": "3.11.4"
  }
 },
 "nbformat": 4,
 "nbformat_minor": 5
}
